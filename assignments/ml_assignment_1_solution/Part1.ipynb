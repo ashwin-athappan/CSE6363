{
 "cells": [
  {
   "metadata": {
    "ExecuteTime": {
     "end_time": "2025-02-01T00:54:53.158826Z",
     "start_time": "2025-02-01T00:54:53.155871Z"
    }
   },
   "cell_type": "code",
   "source": [
    "# import libraries\n",
    "import numpy as np\n",
    "import pandas as pd\n",
    "import matplotlib.pyplot as plt\n",
    "import matplotlib as mpl\n",
    "from sklearn.datasets import load_iris"
   ],
   "id": "initial_id",
   "outputs": [],
   "execution_count": 7
  },
  {
   "metadata": {
    "ExecuteTime": {
     "end_time": "2025-02-01T00:54:54.277267Z",
     "start_time": "2025-02-01T00:54:54.274481Z"
    }
   },
   "cell_type": "code",
   "source": [
    "# Import LinearRegression class from LinearRegression.py\n",
    "\n",
    "import importlib\n",
    "import LinearRegression\n",
    "\n",
    "importlib.reload(LinearRegression)\n",
    "\n",
    "LR = LinearRegression.LinearRegression"
   ],
   "id": "6926b24ff5af231b",
   "outputs": [],
   "execution_count": 8
  },
  {
   "metadata": {},
   "cell_type": "markdown",
   "source": [
    "\n",
    "# 1.5 Regression with a single output\n"
   ],
   "id": "dcd702338dd09a40"
  },
  {
   "metadata": {
    "ExecuteTime": {
     "end_time": "2025-02-01T01:08:38.201052Z",
     "start_time": "2025-02-01T01:08:38.192643Z"
    }
   },
   "cell_type": "code",
   "source": [
    "# Given petal length and petal width, predict sepal length.\n",
    "petal_iris_data = load_iris()\n",
    "\n",
    "petal_df = pd.DataFrame(petal_iris_data.data, columns=petal_iris_data.feature_names)\n",
    "petal_X = petal_df['petal length (cm)']\n",
    "petal_y = petal_df['petal width (cm)'].values\n",
    "\n",
    "split_index = int(0.9 * len(petal_X))\n",
    "petal_X_train, petal_X_test = petal_X[:split_index], petal_X[split_index:]\n",
    "petal_y_train, petal_y_test = petal_y[:split_index], petal_y[split_index:]\n",
    "\n",
    "lr_pl_pw = LR()\n",
    "lr_pl_pw.fit(petal_X_train, petal_y_train)\n",
    "\n",
    "print(lr_pl_pw.bias)\n",
    "print(lr_pl_pw.weights)\n",
    "\n",
    "# X = petal_X_train\n",
    "# y = petal_y_train\n",
    "# plt.scatter(X, y)"
   ],
   "id": "de5674a945a3884a",
   "outputs": [
    {
     "name": "stdout",
     "output_type": "stream",
     "text": [
      "Training completed after 100 epochs with validation loss 0.25756554158283956\n",
      "0.06359591379285418\n",
      "0.24081884783785948\n"
     ]
    }
   ],
   "execution_count": 54
  },
  {
   "metadata": {
    "ExecuteTime": {
     "end_time": "2025-02-01T01:02:55.855545Z",
     "start_time": "2025-02-01T01:02:55.852862Z"
    }
   },
   "cell_type": "code",
   "source": [
    "print(f'Test: {petal_X_test}')\n",
    "print(f'Expected Result close to: {petal_y_test}')\n",
    "print('Predicted: ', lr_pl_pw.predict(petal_X_test))"
   ],
   "id": "677f6fb237b6dc9c",
   "outputs": [
    {
     "name": "stdout",
     "output_type": "stream",
     "text": [
      "Test: 135    6.1\n",
      "136    5.6\n",
      "137    5.5\n",
      "138    4.8\n",
      "139    5.4\n",
      "140    5.6\n",
      "141    5.1\n",
      "142    5.1\n",
      "143    5.9\n",
      "144    5.7\n",
      "145    5.2\n",
      "146    5.0\n",
      "147    5.2\n",
      "148    5.4\n",
      "149    5.1\n",
      "Name: petal length (cm), dtype: float64\n",
      "Expected Result close to: [2.3 2.4 1.8 1.8 2.1 2.4 2.3 1.9 2.3 2.5 2.3 1.9 2.  2.3 1.8]\n",
      "Predicted:  [1.54552068 1.42526995 1.4012198  1.23286878 1.37716966 1.42526995\n",
      " 1.30501922 1.30501922 1.49742039 1.4493201  1.32906936 1.28096907\n",
      " 1.32906936 1.37716966 1.30501922]\n"
     ]
    }
   ],
   "execution_count": 41
  }
 ],
 "metadata": {
  "kernelspec": {
   "display_name": "Python 3 (ipykernel)",
   "language": "python",
   "name": "python3"
  },
  "language_info": {
   "codemirror_mode": {
    "name": "ipython",
    "version": 3
   },
   "file_extension": ".py",
   "mimetype": "text/x-python",
   "name": "python",
   "nbconvert_exporter": "python",
   "pygments_lexer": "ipython3",
   "version": "3.8.20"
  }
 },
 "nbformat": 4,
 "nbformat_minor": 5
}
