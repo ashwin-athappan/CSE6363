{
 "cells": [
  {
   "cell_type": "code",
   "id": "initial_id",
   "metadata": {
    "collapsed": true,
    "ExecuteTime": {
     "end_time": "2025-04-10T01:39:57.386573Z",
     "start_time": "2025-04-10T01:39:52.783598Z"
    }
   },
   "source": [
    "!pip install pandas\n",
    "!pip install lightning\n",
    "!pip install pytorch-lightning\n",
    "!pip install matplotlib\n",
    "!pip install torchvision"
   ],
   "outputs": [
    {
     "name": "stdout",
     "output_type": "stream",
     "text": [
      "Requirement already satisfied: pandas in ./venv/lib/python3.13/site-packages (2.2.3)\r\n",
      "Requirement already satisfied: numpy>=1.26.0 in ./venv/lib/python3.13/site-packages (from pandas) (2.2.4)\r\n",
      "Requirement already satisfied: python-dateutil>=2.8.2 in ./venv/lib/python3.13/site-packages (from pandas) (2.9.0.post0)\r\n",
      "Requirement already satisfied: pytz>=2020.1 in ./venv/lib/python3.13/site-packages (from pandas) (2025.2)\r\n",
      "Requirement already satisfied: tzdata>=2022.7 in ./venv/lib/python3.13/site-packages (from pandas) (2025.2)\r\n",
      "Requirement already satisfied: six>=1.5 in ./venv/lib/python3.13/site-packages (from python-dateutil>=2.8.2->pandas) (1.17.0)\r\n",
      "\r\n",
      "\u001B[1m[\u001B[0m\u001B[34;49mnotice\u001B[0m\u001B[1;39;49m]\u001B[0m\u001B[39;49m A new release of pip is available: \u001B[0m\u001B[31;49m23.2.1\u001B[0m\u001B[39;49m -> \u001B[0m\u001B[32;49m25.0.1\u001B[0m\r\n",
      "\u001B[1m[\u001B[0m\u001B[34;49mnotice\u001B[0m\u001B[1;39;49m]\u001B[0m\u001B[39;49m To update, run: \u001B[0m\u001B[32;49mpip install --upgrade pip\u001B[0m\r\n",
      "Requirement already satisfied: lightning in ./venv/lib/python3.13/site-packages (2.5.1)\r\n",
      "Requirement already satisfied: PyYAML<8.0,>=5.4 in ./venv/lib/python3.13/site-packages (from lightning) (6.0.2)\r\n",
      "Requirement already satisfied: fsspec[http]<2026.0,>=2022.5.0 in ./venv/lib/python3.13/site-packages (from lightning) (2025.3.2)\r\n",
      "Requirement already satisfied: lightning-utilities<2.0,>=0.10.0 in ./venv/lib/python3.13/site-packages (from lightning) (0.14.2)\r\n",
      "Requirement already satisfied: packaging<25.0,>=20.0 in ./venv/lib/python3.13/site-packages (from lightning) (24.2)\r\n",
      "Requirement already satisfied: torch<4.0,>=2.1.0 in ./venv/lib/python3.13/site-packages (from lightning) (2.6.0)\r\n",
      "Requirement already satisfied: torchmetrics<3.0,>=0.7.0 in ./venv/lib/python3.13/site-packages (from lightning) (1.7.0)\r\n",
      "Requirement already satisfied: tqdm<6.0,>=4.57.0 in ./venv/lib/python3.13/site-packages (from lightning) (4.67.1)\r\n",
      "Requirement already satisfied: typing-extensions<6.0,>=4.4.0 in ./venv/lib/python3.13/site-packages (from lightning) (4.13.0)\r\n",
      "Requirement already satisfied: pytorch-lightning in ./venv/lib/python3.13/site-packages (from lightning) (2.5.1)\r\n",
      "Requirement already satisfied: aiohttp!=4.0.0a0,!=4.0.0a1 in ./venv/lib/python3.13/site-packages (from fsspec[http]<2026.0,>=2022.5.0->lightning) (3.11.16)\r\n",
      "Requirement already satisfied: setuptools in ./venv/lib/python3.13/site-packages (from lightning-utilities<2.0,>=0.10.0->lightning) (78.1.0)\r\n",
      "Requirement already satisfied: filelock in ./venv/lib/python3.13/site-packages (from torch<4.0,>=2.1.0->lightning) (3.18.0)\r\n",
      "Requirement already satisfied: networkx in ./venv/lib/python3.13/site-packages (from torch<4.0,>=2.1.0->lightning) (3.4.2)\r\n",
      "Requirement already satisfied: jinja2 in ./venv/lib/python3.13/site-packages (from torch<4.0,>=2.1.0->lightning) (3.1.6)\r\n",
      "Requirement already satisfied: sympy==1.13.1 in ./venv/lib/python3.13/site-packages (from torch<4.0,>=2.1.0->lightning) (1.13.1)\r\n",
      "Requirement already satisfied: mpmath<1.4,>=1.1.0 in ./venv/lib/python3.13/site-packages (from sympy==1.13.1->torch<4.0,>=2.1.0->lightning) (1.3.0)\r\n",
      "Requirement already satisfied: numpy>1.20.0 in ./venv/lib/python3.13/site-packages (from torchmetrics<3.0,>=0.7.0->lightning) (2.2.4)\r\n",
      "Requirement already satisfied: aiohappyeyeballs>=2.3.0 in ./venv/lib/python3.13/site-packages (from aiohttp!=4.0.0a0,!=4.0.0a1->fsspec[http]<2026.0,>=2022.5.0->lightning) (2.6.1)\r\n",
      "Requirement already satisfied: aiosignal>=1.1.2 in ./venv/lib/python3.13/site-packages (from aiohttp!=4.0.0a0,!=4.0.0a1->fsspec[http]<2026.0,>=2022.5.0->lightning) (1.3.2)\r\n",
      "Requirement already satisfied: attrs>=17.3.0 in ./venv/lib/python3.13/site-packages (from aiohttp!=4.0.0a0,!=4.0.0a1->fsspec[http]<2026.0,>=2022.5.0->lightning) (25.3.0)\r\n",
      "Requirement already satisfied: frozenlist>=1.1.1 in ./venv/lib/python3.13/site-packages (from aiohttp!=4.0.0a0,!=4.0.0a1->fsspec[http]<2026.0,>=2022.5.0->lightning) (1.5.0)\r\n",
      "Requirement already satisfied: multidict<7.0,>=4.5 in ./venv/lib/python3.13/site-packages (from aiohttp!=4.0.0a0,!=4.0.0a1->fsspec[http]<2026.0,>=2022.5.0->lightning) (6.2.0)\r\n",
      "Requirement already satisfied: propcache>=0.2.0 in ./venv/lib/python3.13/site-packages (from aiohttp!=4.0.0a0,!=4.0.0a1->fsspec[http]<2026.0,>=2022.5.0->lightning) (0.3.1)\r\n",
      "Requirement already satisfied: yarl<2.0,>=1.17.0 in ./venv/lib/python3.13/site-packages (from aiohttp!=4.0.0a0,!=4.0.0a1->fsspec[http]<2026.0,>=2022.5.0->lightning) (1.18.3)\r\n",
      "Requirement already satisfied: MarkupSafe>=2.0 in ./venv/lib/python3.13/site-packages (from jinja2->torch<4.0,>=2.1.0->lightning) (3.0.2)\r\n",
      "Requirement already satisfied: idna>=2.0 in ./venv/lib/python3.13/site-packages (from yarl<2.0,>=1.17.0->aiohttp!=4.0.0a0,!=4.0.0a1->fsspec[http]<2026.0,>=2022.5.0->lightning) (3.10)\r\n",
      "\r\n",
      "\u001B[1m[\u001B[0m\u001B[34;49mnotice\u001B[0m\u001B[1;39;49m]\u001B[0m\u001B[39;49m A new release of pip is available: \u001B[0m\u001B[31;49m23.2.1\u001B[0m\u001B[39;49m -> \u001B[0m\u001B[32;49m25.0.1\u001B[0m\r\n",
      "\u001B[1m[\u001B[0m\u001B[34;49mnotice\u001B[0m\u001B[1;39;49m]\u001B[0m\u001B[39;49m To update, run: \u001B[0m\u001B[32;49mpip install --upgrade pip\u001B[0m\r\n",
      "Requirement already satisfied: pytorch-lightning in ./venv/lib/python3.13/site-packages (2.5.1)\r\n",
      "Requirement already satisfied: torch>=2.1.0 in ./venv/lib/python3.13/site-packages (from pytorch-lightning) (2.6.0)\r\n",
      "Requirement already satisfied: tqdm>=4.57.0 in ./venv/lib/python3.13/site-packages (from pytorch-lightning) (4.67.1)\r\n",
      "Requirement already satisfied: PyYAML>=5.4 in ./venv/lib/python3.13/site-packages (from pytorch-lightning) (6.0.2)\r\n",
      "Requirement already satisfied: fsspec[http]>=2022.5.0 in ./venv/lib/python3.13/site-packages (from pytorch-lightning) (2025.3.2)\r\n",
      "Requirement already satisfied: torchmetrics>=0.7.0 in ./venv/lib/python3.13/site-packages (from pytorch-lightning) (1.7.0)\r\n",
      "Requirement already satisfied: packaging>=20.0 in ./venv/lib/python3.13/site-packages (from pytorch-lightning) (24.2)\r\n",
      "Requirement already satisfied: typing-extensions>=4.4.0 in ./venv/lib/python3.13/site-packages (from pytorch-lightning) (4.13.0)\r\n",
      "Requirement already satisfied: lightning-utilities>=0.10.0 in ./venv/lib/python3.13/site-packages (from pytorch-lightning) (0.14.2)\r\n",
      "Requirement already satisfied: aiohttp!=4.0.0a0,!=4.0.0a1 in ./venv/lib/python3.13/site-packages (from fsspec[http]>=2022.5.0->pytorch-lightning) (3.11.16)\r\n",
      "Requirement already satisfied: setuptools in ./venv/lib/python3.13/site-packages (from lightning-utilities>=0.10.0->pytorch-lightning) (78.1.0)\r\n",
      "Requirement already satisfied: filelock in ./venv/lib/python3.13/site-packages (from torch>=2.1.0->pytorch-lightning) (3.18.0)\r\n",
      "Requirement already satisfied: networkx in ./venv/lib/python3.13/site-packages (from torch>=2.1.0->pytorch-lightning) (3.4.2)\r\n",
      "Requirement already satisfied: jinja2 in ./venv/lib/python3.13/site-packages (from torch>=2.1.0->pytorch-lightning) (3.1.6)\r\n",
      "Requirement already satisfied: sympy==1.13.1 in ./venv/lib/python3.13/site-packages (from torch>=2.1.0->pytorch-lightning) (1.13.1)\r\n",
      "Requirement already satisfied: mpmath<1.4,>=1.1.0 in ./venv/lib/python3.13/site-packages (from sympy==1.13.1->torch>=2.1.0->pytorch-lightning) (1.3.0)\r\n",
      "Requirement already satisfied: numpy>1.20.0 in ./venv/lib/python3.13/site-packages (from torchmetrics>=0.7.0->pytorch-lightning) (2.2.4)\r\n",
      "Requirement already satisfied: aiohappyeyeballs>=2.3.0 in ./venv/lib/python3.13/site-packages (from aiohttp!=4.0.0a0,!=4.0.0a1->fsspec[http]>=2022.5.0->pytorch-lightning) (2.6.1)\r\n",
      "Requirement already satisfied: aiosignal>=1.1.2 in ./venv/lib/python3.13/site-packages (from aiohttp!=4.0.0a0,!=4.0.0a1->fsspec[http]>=2022.5.0->pytorch-lightning) (1.3.2)\r\n",
      "Requirement already satisfied: attrs>=17.3.0 in ./venv/lib/python3.13/site-packages (from aiohttp!=4.0.0a0,!=4.0.0a1->fsspec[http]>=2022.5.0->pytorch-lightning) (25.3.0)\r\n",
      "Requirement already satisfied: frozenlist>=1.1.1 in ./venv/lib/python3.13/site-packages (from aiohttp!=4.0.0a0,!=4.0.0a1->fsspec[http]>=2022.5.0->pytorch-lightning) (1.5.0)\r\n",
      "Requirement already satisfied: multidict<7.0,>=4.5 in ./venv/lib/python3.13/site-packages (from aiohttp!=4.0.0a0,!=4.0.0a1->fsspec[http]>=2022.5.0->pytorch-lightning) (6.2.0)\r\n",
      "Requirement already satisfied: propcache>=0.2.0 in ./venv/lib/python3.13/site-packages (from aiohttp!=4.0.0a0,!=4.0.0a1->fsspec[http]>=2022.5.0->pytorch-lightning) (0.3.1)\r\n",
      "Requirement already satisfied: yarl<2.0,>=1.17.0 in ./venv/lib/python3.13/site-packages (from aiohttp!=4.0.0a0,!=4.0.0a1->fsspec[http]>=2022.5.0->pytorch-lightning) (1.18.3)\r\n",
      "Requirement already satisfied: MarkupSafe>=2.0 in ./venv/lib/python3.13/site-packages (from jinja2->torch>=2.1.0->pytorch-lightning) (3.0.2)\r\n",
      "Requirement already satisfied: idna>=2.0 in ./venv/lib/python3.13/site-packages (from yarl<2.0,>=1.17.0->aiohttp!=4.0.0a0,!=4.0.0a1->fsspec[http]>=2022.5.0->pytorch-lightning) (3.10)\r\n",
      "\r\n",
      "\u001B[1m[\u001B[0m\u001B[34;49mnotice\u001B[0m\u001B[1;39;49m]\u001B[0m\u001B[39;49m A new release of pip is available: \u001B[0m\u001B[31;49m23.2.1\u001B[0m\u001B[39;49m -> \u001B[0m\u001B[32;49m25.0.1\u001B[0m\r\n",
      "\u001B[1m[\u001B[0m\u001B[34;49mnotice\u001B[0m\u001B[1;39;49m]\u001B[0m\u001B[39;49m To update, run: \u001B[0m\u001B[32;49mpip install --upgrade pip\u001B[0m\r\n",
      "Requirement already satisfied: matplotlib in ./venv/lib/python3.13/site-packages (3.10.1)\r\n",
      "Requirement already satisfied: contourpy>=1.0.1 in ./venv/lib/python3.13/site-packages (from matplotlib) (1.3.1)\r\n",
      "Requirement already satisfied: cycler>=0.10 in ./venv/lib/python3.13/site-packages (from matplotlib) (0.12.1)\r\n",
      "Requirement already satisfied: fonttools>=4.22.0 in ./venv/lib/python3.13/site-packages (from matplotlib) (4.57.0)\r\n",
      "Requirement already satisfied: kiwisolver>=1.3.1 in ./venv/lib/python3.13/site-packages (from matplotlib) (1.4.8)\r\n",
      "Requirement already satisfied: numpy>=1.23 in ./venv/lib/python3.13/site-packages (from matplotlib) (2.2.4)\r\n",
      "Requirement already satisfied: packaging>=20.0 in ./venv/lib/python3.13/site-packages (from matplotlib) (24.2)\r\n",
      "Requirement already satisfied: pillow>=8 in ./venv/lib/python3.13/site-packages (from matplotlib) (11.1.0)\r\n",
      "Requirement already satisfied: pyparsing>=2.3.1 in ./venv/lib/python3.13/site-packages (from matplotlib) (3.2.3)\r\n",
      "Requirement already satisfied: python-dateutil>=2.7 in ./venv/lib/python3.13/site-packages (from matplotlib) (2.9.0.post0)\r\n",
      "Requirement already satisfied: six>=1.5 in ./venv/lib/python3.13/site-packages (from python-dateutil>=2.7->matplotlib) (1.17.0)\r\n",
      "\r\n",
      "\u001B[1m[\u001B[0m\u001B[34;49mnotice\u001B[0m\u001B[1;39;49m]\u001B[0m\u001B[39;49m A new release of pip is available: \u001B[0m\u001B[31;49m23.2.1\u001B[0m\u001B[39;49m -> \u001B[0m\u001B[32;49m25.0.1\u001B[0m\r\n",
      "\u001B[1m[\u001B[0m\u001B[34;49mnotice\u001B[0m\u001B[1;39;49m]\u001B[0m\u001B[39;49m To update, run: \u001B[0m\u001B[32;49mpip install --upgrade pip\u001B[0m\r\n",
      "Requirement already satisfied: torchvision in ./venv/lib/python3.13/site-packages (0.21.0)\r\n",
      "Requirement already satisfied: numpy in ./venv/lib/python3.13/site-packages (from torchvision) (2.2.4)\r\n",
      "Requirement already satisfied: torch==2.6.0 in ./venv/lib/python3.13/site-packages (from torchvision) (2.6.0)\r\n",
      "Requirement already satisfied: pillow!=8.3.*,>=5.3.0 in ./venv/lib/python3.13/site-packages (from torchvision) (11.1.0)\r\n",
      "Requirement already satisfied: filelock in ./venv/lib/python3.13/site-packages (from torch==2.6.0->torchvision) (3.18.0)\r\n",
      "Requirement already satisfied: typing-extensions>=4.10.0 in ./venv/lib/python3.13/site-packages (from torch==2.6.0->torchvision) (4.13.0)\r\n",
      "Requirement already satisfied: networkx in ./venv/lib/python3.13/site-packages (from torch==2.6.0->torchvision) (3.4.2)\r\n",
      "Requirement already satisfied: jinja2 in ./venv/lib/python3.13/site-packages (from torch==2.6.0->torchvision) (3.1.6)\r\n",
      "Requirement already satisfied: fsspec in ./venv/lib/python3.13/site-packages (from torch==2.6.0->torchvision) (2025.3.2)\r\n",
      "Requirement already satisfied: setuptools in ./venv/lib/python3.13/site-packages (from torch==2.6.0->torchvision) (78.1.0)\r\n",
      "Requirement already satisfied: sympy==1.13.1 in ./venv/lib/python3.13/site-packages (from torch==2.6.0->torchvision) (1.13.1)\r\n",
      "Requirement already satisfied: mpmath<1.4,>=1.1.0 in ./venv/lib/python3.13/site-packages (from sympy==1.13.1->torch==2.6.0->torchvision) (1.3.0)\r\n",
      "Requirement already satisfied: MarkupSafe>=2.0 in ./venv/lib/python3.13/site-packages (from jinja2->torch==2.6.0->torchvision) (3.0.2)\r\n",
      "\r\n",
      "\u001B[1m[\u001B[0m\u001B[34;49mnotice\u001B[0m\u001B[1;39;49m]\u001B[0m\u001B[39;49m A new release of pip is available: \u001B[0m\u001B[31;49m23.2.1\u001B[0m\u001B[39;49m -> \u001B[0m\u001B[32;49m25.0.1\u001B[0m\r\n",
      "\u001B[1m[\u001B[0m\u001B[34;49mnotice\u001B[0m\u001B[1;39;49m]\u001B[0m\u001B[39;49m To update, run: \u001B[0m\u001B[32;49mpip install --upgrade pip\u001B[0m\r\n"
     ]
    }
   ],
   "execution_count": 11
  },
  {
   "metadata": {
    "ExecuteTime": {
     "end_time": "2025-04-10T03:31:31.896970Z",
     "start_time": "2025-04-10T03:31:31.893700Z"
    }
   },
   "cell_type": "code",
   "source": [
    "import ssl\n",
    "import torch\n",
    "import torchmetrics\n",
    "import numpy as np\n",
    "import pandas as pd\n",
    "from torch import nn\n",
    "import lightning as L\n",
    "import torch.nn.functional as F\n",
    "import matplotlib.pyplot as plt\n",
    "from torchvision import transforms\n",
    "from torch.utils.data import DataLoader\n",
    "from torchvision.datasets import Imagenette\n",
    "from lightning.pytorch import loggers as pl_loggers\n",
    "from lightning.pytorch.callbacks import ModelCheckpoint\n",
    "from lightning.pytorch.callbacks.early_stopping import EarlyStopping"
   ],
   "id": "567501095a79a186",
   "outputs": [],
   "execution_count": 85
  },
  {
   "metadata": {
    "ExecuteTime": {
     "end_time": "2025-04-10T03:31:32.538452Z",
     "start_time": "2025-04-10T03:31:32.533469Z"
    }
   },
   "cell_type": "code",
   "source": [
    "class BasicCNN(L.LightningModule):\n",
    "    def __init__(self, num_classes=10):\n",
    "        super().__init__()\n",
    "\n",
    "        # Convolutional layers (fixed input channels to 1 for grayscale)\n",
    "        self.conv_layers = nn.Sequential(\n",
    "            nn.Conv2d(1, 32, kernel_size=3, padding=1),\n",
    "            nn.ReLU(),\n",
    "            nn.MaxPool2d(2, 2),  # 64x64 -> 32x32\n",
    "\n",
    "            nn.Conv2d(32, 64, kernel_size=3, padding=1),\n",
    "            nn.ReLU(),\n",
    "            nn.MaxPool2d(2, 2),  # 32x32 -> 16x16\n",
    "\n",
    "            nn.Conv2d(64, 128, kernel_size=3, padding=1),\n",
    "            nn.ReLU(),\n",
    "            nn.MaxPool2d(2, 2)   # 16x16 -> 8x8\n",
    "        )\n",
    "\n",
    "        # Fully connected layers\n",
    "        self.fc_layers = nn.Sequential(\n",
    "            nn.Linear(128 * 8 * 8, 256),\n",
    "            nn.ReLU(),\n",
    "            nn.Linear(256, num_classes)\n",
    "        )\n",
    "\n",
    "        # Metrics and loss tracking\n",
    "        self.accuracy = torchmetrics.Accuracy(task=\"multiclass\", num_classes=num_classes)\n",
    "        self.train_losses = []  # Maintained for manual plotting\n",
    "        self.val_losses = []    # Maintained for manual plotting\n",
    "\n",
    "    def forward(self, x):\n",
    "        x = self.conv_layers(x)\n",
    "        x = x.view(x.size(0), -1)\n",
    "        return self.fc_layers(x)\n",
    "\n",
    "    def training_step(self, batch, batch_idx):\n",
    "        x, y = batch\n",
    "        y_hat = self(x)\n",
    "        loss = F.cross_entropy(y_hat, y)\n",
    "\n",
    "        # Manual loss tracking\n",
    "        self.train_losses.append(loss.detach().cpu().item())\n",
    "        self.log(\"train_loss\", loss, on_step=True, on_epoch=True)\n",
    "        return loss\n",
    "\n",
    "    def validation_step(self, batch, batch_idx):\n",
    "        x, y = batch\n",
    "        y_hat = self(x)\n",
    "        loss = F.cross_entropy(y_hat, y)\n",
    "\n",
    "        # Manual loss tracking\n",
    "        self.val_losses.append(loss.detach().cpu().item())\n",
    "        self.accuracy(y_hat, y)\n",
    "        self.log(\"val_loss\", loss, on_epoch=True)\n",
    "        self.log(\"val_acc\", self.accuracy, on_epoch=True)\n",
    "        return loss\n",
    "\n",
    "    def on_train_epoch_end(self):\n",
    "        # Optional: Add epoch-level aggregation\n",
    "        avg_loss = sum(self.train_losses[-self.trainer.num_training_batches:])/self.trainer.num_training_batches\n",
    "        print(f\"Epoch {self.current_epoch} - Avg Train Loss: {avg_loss:.4f}\")\n",
    "\n",
    "    def on_validation_epoch_end(self):\n",
    "        # Optional: Add epoch-level aggregation\n",
    "        if self.val_losses:\n",
    "            avg_loss = sum(self.val_losses[-self.trainer.num_val_batches[0]:])/self.trainer.num_val_batches[0]\n",
    "            print(f\"Epoch {self.current_epoch} - Avg Val Loss: {avg_loss:.4f}\")\n",
    "\n",
    "    def configure_optimizers(self):\n",
    "        optimizer = torch.optim.Adam(self.parameters(), lr=1e-3)\n",
    "        scheduler = torch.optim.lr_scheduler.ReduceLROnPlateau(\n",
    "            optimizer, patience=2, verbose=True\n",
    "        )\n",
    "        return {\n",
    "            \"optimizer\": optimizer,\n",
    "            \"lr_scheduler\": {\n",
    "                \"scheduler\": scheduler,\n",
    "                \"monitor\": \"val_loss\"\n",
    "            }\n",
    "        }\n"
   ],
   "id": "88fdfcef0aff7bc3",
   "outputs": [],
   "execution_count": 86
  },
  {
   "metadata": {
    "ExecuteTime": {
     "end_time": "2025-04-10T03:31:33.109466Z",
     "start_time": "2025-04-10T03:31:33.101953Z"
    }
   },
   "cell_type": "code",
   "source": [
    "class ResNet18(L.LightningModule):\n",
    "    def __init__(self, num_classes=10):\n",
    "        super().__init__()\n",
    "\n",
    "        # Initial convolutional layer (fixed input channels to 3)\n",
    "        self.conv1 = nn.Conv2d(3, 64, kernel_size=7, stride=2, padding=3, bias=False)\n",
    "        self.bn1 = nn.BatchNorm2d(64)\n",
    "        self.pool = nn.MaxPool2d(kernel_size=3, stride=2, padding=1)\n",
    "\n",
    "        # Residual layers\n",
    "        self.layer1 = self._make_residual_layer(64, 64, stride=1)\n",
    "        self.layer2 = self._make_residual_layer(64, 128, stride=2)\n",
    "        self.layer3 = self._make_residual_layer(128, 256, stride=2)\n",
    "        self.layer4 = self._make_residual_layer(256, 512, stride=2)\n",
    "\n",
    "        # Classification head\n",
    "        self.fc = nn.Linear(512, num_classes)\n",
    "\n",
    "        # Metrics\n",
    "        self.train_loss = torchmetrics.MeanMetric()\n",
    "        self.val_loss = torchmetrics.MeanMetric()\n",
    "        self.accuracy = torchmetrics.Accuracy(task=\"multiclass\", num_classes=num_classes)\n",
    "\n",
    "    def _make_residual_layer(self, in_channels, out_channels, stride):\n",
    "        shortcut = nn.Sequential()\n",
    "        if stride != 1 or in_channels != out_channels:\n",
    "            shortcut = nn.Sequential(\n",
    "                nn.Conv2d(in_channels, out_channels, kernel_size=1, stride=stride, bias=False),\n",
    "                nn.BatchNorm2d(out_channels)\n",
    "            )\n",
    "\n",
    "        layers = nn.Sequential(\n",
    "            ResidualBlock(in_channels, out_channels, stride, shortcut),\n",
    "            ResidualBlock(out_channels, out_channels, 1)\n",
    "        )\n",
    "        return layers\n",
    "\n",
    "    def forward(self, x):\n",
    "        x = F.relu(self.bn1(self.conv1(x)))\n",
    "        x = self.pool(x)\n",
    "\n",
    "        x = self.layer1(x)\n",
    "        x = self.layer2(x)\n",
    "        x = self.layer3(x)\n",
    "        x = self.layer4(x)\n",
    "\n",
    "        x = F.adaptive_avg_pool2d(x, (1, 1))\n",
    "        x = torch.flatten(x, 1)\n",
    "        return self.fc(x)\n",
    "\n",
    "    def training_step(self, batch, batch_idx):\n",
    "        x, y = batch\n",
    "        y_hat = self(x)\n",
    "        loss = F.cross_entropy(y_hat, y)\n",
    "        self.train_loss(loss)\n",
    "        self.log(\"train_loss\", loss, on_epoch=True, prog_bar=True)\n",
    "        return loss\n",
    "\n",
    "    def validation_step(self, batch, batch_idx):\n",
    "        x, y = batch\n",
    "        y_hat = self(x)\n",
    "        loss = F.cross_entropy(y_hat, y)\n",
    "        self.val_loss(loss)\n",
    "        self.accuracy(y_hat, y)\n",
    "        self.log(\"val_loss\", self.val_loss, on_epoch=True)\n",
    "        self.log(\"val_acc\", self.accuracy, on_epoch=True, prog_bar=True)\n",
    "\n",
    "    def test_step(self, batch, batch_idx):\n",
    "        x, y = batch\n",
    "        y_hat = self(x)\n",
    "        self.accuracy(y_hat, y)\n",
    "        self.log(\"test_acc\", self.accuracy, on_epoch=True)\n",
    "\n",
    "    def configure_optimizers(self):\n",
    "        optimizer = torch.optim.SGD(\n",
    "            self.parameters(),\n",
    "            lr=0.1,\n",
    "            momentum=0.9,\n",
    "            weight_decay=1e-4\n",
    "        )\n",
    "        scheduler = torch.optim.lr_scheduler.MultiStepLR(\n",
    "            optimizer, milestones=[30, 60], gamma=0.1\n",
    "        )\n",
    "        return [optimizer], [scheduler]\n",
    "\n",
    "class ResidualBlock(nn.Module):\n",
    "    def __init__(self, in_channels, out_channels, stride, shortcut=None):\n",
    "        super().__init__()\n",
    "        self.conv1 = nn.Conv2d(in_channels, out_channels, 3, stride, 1, bias=False)\n",
    "        self.bn1 = nn.BatchNorm2d(out_channels)\n",
    "        self.conv2 = nn.Conv2d(out_channels, out_channels, 3, 1, 1, bias=False)\n",
    "        self.bn2 = nn.BatchNorm2d(out_channels)\n",
    "        self.shortcut = shortcut\n",
    "\n",
    "    def forward(self, x):\n",
    "        residual = x\n",
    "        if self.shortcut is not None:\n",
    "            residual = self.shortcut(x)\n",
    "\n",
    "        x = F.relu(self.bn1(self.conv1(x)))\n",
    "        x = self.bn2(self.conv2(x))\n",
    "        x += residual\n",
    "        return F.relu(x)\n"
   ],
   "id": "52dfd2fc6adedbde",
   "outputs": [],
   "execution_count": 87
  },
  {
   "metadata": {
    "ExecuteTime": {
     "end_time": "2025-04-10T03:31:33.669522Z",
     "start_time": "2025-04-10T03:31:33.665622Z"
    }
   },
   "cell_type": "code",
   "source": [
    "class RegularizationCNN(L.LightningModule):\n",
    "    def __init__(self, num_classes=10):\n",
    "        super().__init__()\n",
    "\n",
    "        # Convolutional layers (fixed input channels to 3)\n",
    "        self.conv_layers = nn.Sequential(\n",
    "            nn.Conv2d(3, 32, kernel_size=3, padding=1),  # Changed 1 -> 3 channels\n",
    "            nn.ReLU(),\n",
    "            nn.MaxPool2d(2, 2),  # 64x64 -> 32x32\n",
    "\n",
    "            nn.Conv2d(32, 64, kernel_size=3, padding=1),\n",
    "            nn.ReLU(),\n",
    "            nn.MaxPool2d(2, 2),  # 32x32 -> 16x16\n",
    "\n",
    "            nn.Conv2d(64, 128, kernel_size=3, padding=1),\n",
    "            nn.ReLU(),\n",
    "            nn.MaxPool2d(2, 2)   # 16x16 -> 8x8\n",
    "        )\n",
    "\n",
    "        # Fully connected layers with proper initialization\n",
    "        self.fc_layers = nn.Sequential(\n",
    "            nn.Linear(128 * 8 * 8, 256),\n",
    "            nn.ReLU(),\n",
    "            nn.Dropout(0.3),  # Reduced dropout for better balance\n",
    "            nn.Linear(256, num_classes)\n",
    "        )\n",
    "\n",
    "        # Metric tracking\n",
    "        self.train_loss = torchmetrics.MeanMetric()\n",
    "        self.val_loss = torchmetrics.MeanMetric()\n",
    "        self.accuracy = torchmetrics.Accuracy(task=\"multiclass\", num_classes=num_classes)\n",
    "\n",
    "    def forward(self, x):\n",
    "        x = self.conv_layers(x)\n",
    "        x = x.flatten(1)\n",
    "        return self.fc_layers(x)\n",
    "\n",
    "    def training_step(self, batch, batch_idx):\n",
    "        x, y = batch\n",
    "        y_hat = self(x)\n",
    "        loss = F.cross_entropy(y_hat, y)\n",
    "        self.train_loss(loss)\n",
    "        self.log(\"train_loss\", loss, on_step=False, on_epoch=True)\n",
    "        return loss\n",
    "\n",
    "    def validation_step(self, batch, batch_idx):\n",
    "        x, y = batch\n",
    "        y_hat = self(x)\n",
    "        loss = F.cross_entropy(y_hat, y)\n",
    "        self.val_loss(loss)\n",
    "        self.accuracy(y_hat, y)\n",
    "        self.log(\"val_loss\", loss, on_epoch=True)\n",
    "        self.log(\"val_acc\", self.accuracy, on_epoch=True)\n",
    "\n",
    "    def test_step(self, batch, batch_idx):\n",
    "        x, y = batch\n",
    "        y_hat = self(x)\n",
    "        self.accuracy(y_hat, y)\n",
    "        self.log(\"test_acc\", self.accuracy, on_epoch=True)\n",
    "\n",
    "    def configure_optimizers(self):\n",
    "        optimizer = torch.optim.Adam(self.parameters(), lr=1e-3)\n",
    "        scheduler = torch.optim.lr_scheduler.ReduceLROnPlateau(\n",
    "            optimizer, patience=2, verbose=True\n",
    "        )\n",
    "        return {\n",
    "            \"optimizer\": optimizer,\n",
    "            \"lr_scheduler\": {\n",
    "                \"scheduler\": scheduler,\n",
    "                \"monitor\": \"val_loss\"\n",
    "            }\n",
    "        }\n"
   ],
   "id": "ba0789ee2e2668f5",
   "outputs": [],
   "execution_count": 88
  },
  {
   "metadata": {
    "ExecuteTime": {
     "end_time": "2025-04-10T03:31:34.194875Z",
     "start_time": "2025-04-10T03:31:34.189183Z"
    }
   },
   "cell_type": "code",
   "source": [
    "# Fix SSL certificate issue\n",
    "ssl._create_default_https_context = ssl._create_unverified_context\n",
    "\n",
    "def get_transformers(input_size=64, transformer_type=\"basic_cnn\"):\n",
    "\n",
    "    transformers_obj = {\n",
    "        \"val\": transforms.Compose([\n",
    "            transforms.Resize(input_size + 32),\n",
    "            transforms.CenterCrop(input_size),\n",
    "            transforms.ToTensor(),\n",
    "            transforms.Normalize(mean=[0.485, 0.456, 0.406],\n",
    "                                 std=[0.229, 0.224, 0.225])\n",
    "        ])\n",
    "    }\n",
    "\n",
    "    if transformer_type == \"basic_cnn\":\n",
    "        transformers_obj[\"train\"] = transforms.Compose([\n",
    "            transforms.RandomResizedCrop(input_size),\n",
    "            transforms.RandomHorizontalFlip(),\n",
    "            transforms.ToTensor(),\n",
    "            transforms.Normalize(mean=[0.485, 0.456, 0.406],\n",
    "                                 std=[0.229, 0.224, 0.225])\n",
    "        ])\n",
    "\n",
    "    elif transformer_type == \"regularization\":\n",
    "        transformers_obj[\"train\"] = transforms.Compose([\n",
    "            transforms.RandomHorizontalFlip(),\n",
    "            transforms.RandomRotation(10),\n",
    "            transforms.ColorJitter(brightness=0.2, contrast=0.2),\n",
    "            transforms.ToTensor(),\n",
    "            transforms.Normalize(mean=[0.485, 0.456, 0.406], std=[0.229, 0.224, 0.225])\n",
    "        ])\n",
    "\n",
    "    return transformers_obj\n",
    "\n",
    "def get_loaders(generated_transforms):\n",
    "    train_dataset = Imagenette(\"data/imagenette\", split=\"train\",\n",
    "                               size=\"160px\", download=True,\n",
    "                               transform=generated_transforms[\"train\"])\n",
    "    test_dataset = Imagenette(\"data/imagenette\", split=\"val\",\n",
    "                              size=\"160px\", download=True,\n",
    "                              transform=generated_transforms[\"val\"])\n",
    "\n",
    "    # Proper train/val split\n",
    "    train_set_size = int(len(train_dataset) * 0.9)\n",
    "    val_set_size = len(train_dataset) - train_set_size\n",
    "    train_dataset, val_dataset = torch.utils.data.random_split(\n",
    "        train_dataset, [train_set_size, val_set_size],\n",
    "        generator=torch.Generator().manual_seed(42)\n",
    "    )\n",
    "\n",
    "    # Clone transforms for validation set\n",
    "    val_dataset.dataset.transform = generated_transforms[\"val\"]\n",
    "\n",
    "    # Create dataloaders\n",
    "    BATCH_SIZE = 128\n",
    "    train_loader = DataLoader(train_dataset, batch_size=BATCH_SIZE,\n",
    "                              shuffle=True, num_workers=8,\n",
    "                              persistent_workers=True)\n",
    "    val_loader = DataLoader(val_dataset, batch_size=BATCH_SIZE,\n",
    "                            shuffle=False, num_workers=8,\n",
    "                            persistent_workers=True)\n",
    "    test_loader = DataLoader(test_dataset, batch_size=BATCH_SIZE*2,\n",
    "                             shuffle=False, num_workers=8,\n",
    "                             persistent_workers=True)\n",
    "\n",
    "    loaders = {\"train\": train_loader, \"val\": val_loader, \"test\": test_loader}\n",
    "    return loaders\n",
    "\n",
    "# Callbacks\n",
    "early_stop = EarlyStopping(\n",
    "    monitor=\"val_loss\",\n",
    "    patience=4,\n",
    "    mode=\"min\",\n",
    "    min_delta=0.001\n",
    ")\n",
    "\n",
    "checkpoint = ModelCheckpoint(\n",
    "    monitor=\"val_acc\",\n",
    "    mode=\"max\",\n",
    "    dirpath=\"./checkpoints\",\n",
    "    filename=\"best_model-{epoch}-{val_acc:.2f}\",\n",
    "    save_top_k=1,\n",
    "    save_weights_only=True\n",
    ")\n"
   ],
   "id": "99e28ec0d30e53dc",
   "outputs": [],
   "execution_count": 89
  },
  {
   "metadata": {},
   "cell_type": "markdown",
   "source": "# Basic CNN Model",
   "id": "9b55da2b281a3d8c"
  },
  {
   "metadata": {
    "ExecuteTime": {
     "end_time": "2025-04-10T03:31:35.541384Z",
     "start_time": "2025-04-10T03:31:35.496419Z"
    }
   },
   "cell_type": "code",
   "source": [
    "# Load the dataset\n",
    "basic_cnn_transforms = get_transformers(input_size=64, transformer_type=\"basic_cnn\")\n",
    "basic_cnn_loaders = get_loaders(basic_cnn_transforms)\n",
    "basic_cnn_train_loader = basic_cnn_loaders[\"train\"]\n",
    "basic_cnn_val_loader = basic_cnn_loaders[\"val\"]\n",
    "basic_cnn_test_loader = basic_cnn_loaders[\"test\"]"
   ],
   "id": "4a0be26a57d52f5c",
   "outputs": [],
   "execution_count": 90
  },
  {
   "metadata": {
    "ExecuteTime": {
     "end_time": "2025-04-10T03:31:36.062478Z",
     "start_time": "2025-04-10T03:31:36.039348Z"
    }
   },
   "cell_type": "code",
   "source": [
    "# Trainer configuration\n",
    "basic_cnn_trainer = L.Trainer(\n",
    "    max_epochs=10,\n",
    "    callbacks=[early_stop, checkpoint],\n",
    "    accelerator=\"auto\",\n",
    "    devices=\"auto\",\n",
    "    precision=\"16-mixed\",\n",
    "    logger=pl_loggers.CSVLogger(save_dir=\"logs/\")\n",
    ")"
   ],
   "id": "8facb5666fa71592",
   "outputs": [
    {
     "name": "stderr",
     "output_type": "stream",
     "text": [
      "Using 16bit Automatic Mixed Precision (AMP)\n",
      "/Users/ashwin/Documents/workspace/DataSpellProjects/CSE-6363/CSE6363/assignments/ml_assignment_4_sol/venv/lib/python3.13/site-packages/torch/amp/grad_scaler.py:132: UserWarning: torch.cuda.amp.GradScaler is enabled, but CUDA is not available.  Disabling.\n",
      "  warnings.warn(\n",
      "GPU available: True (mps), used: True\n",
      "TPU available: False, using: 0 TPU cores\n",
      "HPU available: False, using: 0 HPUs\n"
     ]
    }
   ],
   "execution_count": 91
  },
  {
   "metadata": {
    "ExecuteTime": {
     "end_time": "2025-04-10T03:34:10.130392Z",
     "start_time": "2025-04-10T03:31:37.646333Z"
    }
   },
   "cell_type": "code",
   "source": [
    "basic_cnn_model = BasicCNN()\n",
    "\n",
    "# Training execution\n",
    "basic_cnn_trainer.fit(basic_cnn_model, basic_cnn_train_loader, basic_cnn_val_loader)\n",
    "basic_cnn_trainer.test(basic_cnn_model, basic_cnn_test_loader)"
   ],
   "id": "1b607e83bf06b867",
   "outputs": [
    {
     "name": "stderr",
     "output_type": "stream",
     "text": [
      "\n",
      "  | Name        | Type               | Params | Mode \n",
      "-----------------------------------------------------------\n",
      "0 | conv_layers | Sequential         | 93.2 K | train\n",
      "1 | fc_layers   | Sequential         | 2.1 M  | train\n",
      "2 | train_loss  | MeanMetric         | 0      | train\n",
      "3 | val_loss    | MeanMetric         | 0      | train\n",
      "4 | accuracy    | MulticlassAccuracy | 0      | train\n",
      "-----------------------------------------------------------\n",
      "2.2 M     Trainable params\n",
      "0         Non-trainable params\n",
      "2.2 M     Total params\n",
      "8.773     Total estimated model params size (MB)\n",
      "18        Modules in train mode\n",
      "0         Modules in eval mode\n"
     ]
    },
    {
     "name": "stdout",
     "output_type": "stream",
     "text": [
      "                                                                           \r"
     ]
    },
    {
     "name": "stderr",
     "output_type": "stream",
     "text": [
      "/Users/ashwin/Documents/workspace/DataSpellProjects/CSE-6363/CSE6363/assignments/ml_assignment_4_sol/venv/lib/python3.13/site-packages/torch/amp/autocast_mode.py:266: UserWarning: User provided device_type of 'cuda', but CUDA is not available. Disabling\n",
      "  warnings.warn(\n"
     ]
    },
    {
     "name": "stdout",
     "output_type": "stream",
     "text": [
      "Epoch 0: 100%|██████████| 67/67 [00:01<00:00, 45.51it/s, v_num=0]\n",
      "Validation: |          | 0/? [00:00<?, ?it/s]\u001B[A\n",
      "Validation:   0%|          | 0/8 [00:00<?, ?it/s]\u001B[A\n",
      "Validation DataLoader 0:   0%|          | 0/8 [00:00<?, ?it/s]\u001B[A\n",
      "Validation DataLoader 0:  12%|█▎        | 1/8 [00:00<00:00, 116.79it/s]\u001B[A\n",
      "Validation DataLoader 0:  25%|██▌       | 2/8 [00:00<00:00, 122.60it/s]\u001B[A\n",
      "Validation DataLoader 0:  38%|███▊      | 3/8 [00:00<00:00, 131.50it/s]\u001B[A\n",
      "Validation DataLoader 0:  50%|█████     | 4/8 [00:00<00:00, 136.80it/s]\u001B[A\n",
      "Validation DataLoader 0:  62%|██████▎   | 5/8 [00:00<00:00, 140.13it/s]\u001B[A\n",
      "Validation DataLoader 0:  75%|███████▌  | 6/8 [00:00<00:00, 143.13it/s]\u001B[A\n",
      "Validation DataLoader 0:  88%|████████▊ | 7/8 [00:00<00:00, 144.77it/s]\u001B[A\n",
      "Validation DataLoader 0: 100%|██████████| 8/8 [00:00<00:00, 149.42it/s]\u001B[A\n",
      "Epoch 1: 100%|██████████| 67/67 [00:01<00:00, 58.73it/s, v_num=0]      \u001B[A\n",
      "Validation: |          | 0/? [00:00<?, ?it/s]\u001B[A\n",
      "Validation:   0%|          | 0/8 [00:00<?, ?it/s]\u001B[A\n",
      "Validation DataLoader 0:   0%|          | 0/8 [00:00<?, ?it/s]\u001B[A\n",
      "Validation DataLoader 0:  12%|█▎        | 1/8 [00:00<00:00, 130.00it/s]\u001B[A\n",
      "Validation DataLoader 0:  25%|██▌       | 2/8 [00:00<00:00, 131.22it/s]\u001B[A\n",
      "Validation DataLoader 0:  38%|███▊      | 3/8 [00:00<00:00, 130.65it/s]\u001B[A\n",
      "Validation DataLoader 0:  50%|█████     | 4/8 [00:00<00:00, 135.60it/s]\u001B[A\n",
      "Validation DataLoader 0:  62%|██████▎   | 5/8 [00:00<00:00, 138.83it/s]\u001B[A\n",
      "Validation DataLoader 0:  75%|███████▌  | 6/8 [00:00<00:00, 141.77it/s]\u001B[A\n",
      "Validation DataLoader 0:  88%|████████▊ | 7/8 [00:00<00:00, 143.87it/s]\u001B[A\n",
      "Validation DataLoader 0: 100%|██████████| 8/8 [00:00<00:00, 150.95it/s]\u001B[A\n",
      "Epoch 2: 100%|██████████| 67/67 [00:01<00:00, 58.45it/s, v_num=0]      \u001B[A\n",
      "Validation: |          | 0/? [00:00<?, ?it/s]\u001B[A\n",
      "Validation:   0%|          | 0/8 [00:00<?, ?it/s]\u001B[A\n",
      "Validation DataLoader 0:   0%|          | 0/8 [00:00<?, ?it/s]\u001B[A\n",
      "Validation DataLoader 0:  12%|█▎        | 1/8 [00:00<00:00, 123.50it/s]\u001B[A\n",
      "Validation DataLoader 0:  25%|██▌       | 2/8 [00:00<00:00, 126.73it/s]\u001B[A\n",
      "Validation DataLoader 0:  38%|███▊      | 3/8 [00:00<00:00, 134.86it/s]\u001B[A\n",
      "Validation DataLoader 0:  50%|█████     | 4/8 [00:00<00:00, 137.92it/s]\u001B[A\n",
      "Validation DataLoader 0:  62%|██████▎   | 5/8 [00:00<00:00, 140.09it/s]\u001B[A\n",
      "Validation DataLoader 0:  75%|███████▌  | 6/8 [00:00<00:00, 142.49it/s]\u001B[A\n",
      "Validation DataLoader 0:  88%|████████▊ | 7/8 [00:00<00:00, 144.20it/s]\u001B[A\n",
      "Validation DataLoader 0: 100%|██████████| 8/8 [00:00<00:00, 150.82it/s]\u001B[A\n",
      "Epoch 3: 100%|██████████| 67/67 [00:01<00:00, 59.33it/s, v_num=0]      \u001B[A\n",
      "Validation: |          | 0/? [00:00<?, ?it/s]\u001B[A\n",
      "Validation:   0%|          | 0/8 [00:00<?, ?it/s]\u001B[A\n",
      "Validation DataLoader 0:   0%|          | 0/8 [00:00<?, ?it/s]\u001B[A\n",
      "Validation DataLoader 0:  12%|█▎        | 1/8 [00:00<00:00, 127.72it/s]\u001B[A\n",
      "Validation DataLoader 0:  25%|██▌       | 2/8 [00:00<00:00, 135.23it/s]\u001B[A\n",
      "Validation DataLoader 0:  38%|███▊      | 3/8 [00:00<00:00, 136.63it/s]\u001B[A\n",
      "Validation DataLoader 0:  50%|█████     | 4/8 [00:00<00:00, 139.68it/s]\u001B[A\n",
      "Validation DataLoader 0:  62%|██████▎   | 5/8 [00:00<00:00, 141.00it/s]\u001B[A\n",
      "Validation DataLoader 0:  75%|███████▌  | 6/8 [00:00<00:00, 141.44it/s]\u001B[A\n",
      "Validation DataLoader 0:  88%|████████▊ | 7/8 [00:00<00:00, 142.91it/s]\u001B[A\n",
      "Validation DataLoader 0: 100%|██████████| 8/8 [00:00<00:00, 149.86it/s]\u001B[A\n",
      "Epoch 4: 100%|██████████| 67/67 [00:01<00:00, 59.14it/s, v_num=0]      \u001B[A\n",
      "Validation: |          | 0/? [00:00<?, ?it/s]\u001B[A\n",
      "Validation:   0%|          | 0/8 [00:00<?, ?it/s]\u001B[A\n",
      "Validation DataLoader 0:   0%|          | 0/8 [00:00<?, ?it/s]\u001B[A\n",
      "Validation DataLoader 0:  12%|█▎        | 1/8 [00:00<00:00, 126.90it/s]\u001B[A\n",
      "Validation DataLoader 0:  25%|██▌       | 2/8 [00:00<00:00, 128.04it/s]\u001B[A\n",
      "Validation DataLoader 0:  38%|███▊      | 3/8 [00:00<00:00, 135.46it/s]\u001B[A\n",
      "Validation DataLoader 0:  50%|█████     | 4/8 [00:00<00:00, 139.34it/s]\u001B[A\n",
      "Validation DataLoader 0:  62%|██████▎   | 5/8 [00:00<00:00, 141.83it/s]\u001B[A\n",
      "Validation DataLoader 0:  75%|███████▌  | 6/8 [00:00<00:00, 140.70it/s]\u001B[A\n",
      "Validation DataLoader 0:  88%|████████▊ | 7/8 [00:00<00:00, 139.78it/s]\u001B[A\n",
      "Validation DataLoader 0: 100%|██████████| 8/8 [00:00<00:00, 145.46it/s]\u001B[A\n",
      "Epoch 5: 100%|██████████| 67/67 [00:01<00:00, 55.86it/s, v_num=0]      \u001B[A\n",
      "Validation: |          | 0/? [00:00<?, ?it/s]\u001B[A\n",
      "Validation:   0%|          | 0/8 [00:00<?, ?it/s]\u001B[A\n",
      "Validation DataLoader 0:   0%|          | 0/8 [00:00<?, ?it/s]\u001B[A\n",
      "Validation DataLoader 0:  12%|█▎        | 1/8 [00:00<00:00, 115.92it/s]\u001B[A\n",
      "Validation DataLoader 0:  25%|██▌       | 2/8 [00:00<00:00, 119.30it/s]\u001B[A\n",
      "Validation DataLoader 0:  38%|███▊      | 3/8 [00:00<00:00, 126.84it/s]\u001B[A\n",
      "Validation DataLoader 0:  50%|█████     | 4/8 [00:00<00:00, 132.81it/s]\u001B[A\n",
      "Validation DataLoader 0:  62%|██████▎   | 5/8 [00:00<00:00, 134.26it/s]\u001B[A\n",
      "Validation DataLoader 0:  75%|███████▌  | 6/8 [00:00<00:00, 134.96it/s]\u001B[A\n",
      "Validation DataLoader 0:  88%|████████▊ | 7/8 [00:00<00:00, 136.29it/s]\u001B[A\n",
      "Validation DataLoader 0: 100%|██████████| 8/8 [00:00<00:00, 140.24it/s]\u001B[A\n",
      "Epoch 6: 100%|██████████| 67/67 [00:01<00:00, 57.72it/s, v_num=0]      \u001B[A\n",
      "Validation: |          | 0/? [00:00<?, ?it/s]\u001B[A\n",
      "Validation:   0%|          | 0/8 [00:00<?, ?it/s]\u001B[A\n",
      "Validation DataLoader 0:   0%|          | 0/8 [00:00<?, ?it/s]\u001B[A\n",
      "Validation DataLoader 0:  12%|█▎        | 1/8 [00:00<00:00, 134.90it/s]\u001B[A\n",
      "Validation DataLoader 0:  25%|██▌       | 2/8 [00:00<00:00, 132.72it/s]\u001B[A\n",
      "Validation DataLoader 0:  38%|███▊      | 3/8 [00:00<00:00, 135.13it/s]\u001B[A\n",
      "Validation DataLoader 0:  50%|█████     | 4/8 [00:00<00:00, 139.37it/s]\u001B[A\n",
      "Validation DataLoader 0:  62%|██████▎   | 5/8 [00:00<00:00, 141.28it/s]\u001B[A\n",
      "Validation DataLoader 0:  75%|███████▌  | 6/8 [00:00<00:00, 142.92it/s]\u001B[A\n",
      "Validation DataLoader 0:  88%|████████▊ | 7/8 [00:00<00:00, 144.26it/s]\u001B[A\n",
      "Validation DataLoader 0: 100%|██████████| 8/8 [00:00<00:00, 150.97it/s]\u001B[A\n",
      "Epoch 7: 100%|██████████| 67/67 [00:01<00:00, 59.31it/s, v_num=0]      \u001B[A\n",
      "Validation: |          | 0/? [00:00<?, ?it/s]\u001B[A\n",
      "Validation:   0%|          | 0/8 [00:00<?, ?it/s]\u001B[A\n",
      "Validation DataLoader 0:   0%|          | 0/8 [00:00<?, ?it/s]\u001B[A\n",
      "Validation DataLoader 0:  12%|█▎        | 1/8 [00:00<00:00, 128.37it/s]\u001B[A\n",
      "Validation DataLoader 0:  25%|██▌       | 2/8 [00:00<00:00, 138.47it/s]\u001B[A\n",
      "Validation DataLoader 0:  38%|███▊      | 3/8 [00:00<00:00, 142.53it/s]\u001B[A\n",
      "Validation DataLoader 0:  50%|█████     | 4/8 [00:00<00:00, 144.35it/s]\u001B[A\n",
      "Validation DataLoader 0:  62%|██████▎   | 5/8 [00:00<00:00, 144.08it/s]\u001B[A\n",
      "Validation DataLoader 0:  75%|███████▌  | 6/8 [00:00<00:00, 144.91it/s]\u001B[A\n",
      "Validation DataLoader 0:  88%|████████▊ | 7/8 [00:00<00:00, 145.43it/s]\u001B[A\n",
      "Validation DataLoader 0: 100%|██████████| 8/8 [00:00<00:00, 152.14it/s]\u001B[A\n",
      "Epoch 8: 100%|██████████| 67/67 [00:01<00:00, 59.23it/s, v_num=0]      \u001B[A\n",
      "Validation: |          | 0/? [00:00<?, ?it/s]\u001B[A\n",
      "Validation:   0%|          | 0/8 [00:00<?, ?it/s]\u001B[A\n",
      "Validation DataLoader 0:   0%|          | 0/8 [00:00<?, ?it/s]\u001B[A\n",
      "Validation DataLoader 0:  12%|█▎        | 1/8 [00:00<00:00, 125.17it/s]\u001B[A\n",
      "Validation DataLoader 0:  25%|██▌       | 2/8 [00:00<00:00, 124.50it/s]\u001B[A\n",
      "Validation DataLoader 0:  38%|███▊      | 3/8 [00:00<00:00, 127.56it/s]\u001B[A\n",
      "Validation DataLoader 0:  50%|█████     | 4/8 [00:00<00:00, 132.67it/s]\u001B[A\n",
      "Validation DataLoader 0:  62%|██████▎   | 5/8 [00:00<00:00, 133.43it/s]\u001B[A\n",
      "Validation DataLoader 0:  75%|███████▌  | 6/8 [00:00<00:00, 134.69it/s]\u001B[A\n",
      "Validation DataLoader 0:  88%|████████▊ | 7/8 [00:00<00:00, 133.85it/s]\u001B[A\n",
      "Validation DataLoader 0: 100%|██████████| 8/8 [00:00<00:00, 140.07it/s]\u001B[A\n",
      "Epoch 9: 100%|██████████| 67/67 [00:01<00:00, 59.33it/s, v_num=0]      \u001B[A\n",
      "Validation: |          | 0/? [00:00<?, ?it/s]\u001B[A\n",
      "Validation:   0%|          | 0/8 [00:00<?, ?it/s]\u001B[A\n",
      "Validation DataLoader 0:   0%|          | 0/8 [00:00<?, ?it/s]\u001B[A\n",
      "Validation DataLoader 0:  12%|█▎        | 1/8 [00:00<00:00, 130.36it/s]\u001B[A\n",
      "Validation DataLoader 0:  25%|██▌       | 2/8 [00:00<00:00, 139.92it/s]\u001B[A\n",
      "Validation DataLoader 0:  38%|███▊      | 3/8 [00:00<00:00, 136.83it/s]\u001B[A\n",
      "Validation DataLoader 0:  50%|█████     | 4/8 [00:00<00:00, 140.49it/s]\u001B[A\n",
      "Validation DataLoader 0:  62%|██████▎   | 5/8 [00:00<00:00, 141.24it/s]\u001B[A\n",
      "Validation DataLoader 0:  75%|███████▌  | 6/8 [00:00<00:00, 142.16it/s]\u001B[A\n",
      "Validation DataLoader 0:  88%|████████▊ | 7/8 [00:00<00:00, 143.91it/s]\u001B[A\n",
      "Validation DataLoader 0: 100%|██████████| 8/8 [00:00<00:00, 150.29it/s]\u001B[A\n",
      "Epoch 9: 100%|██████████| 67/67 [00:01<00:00, 54.69it/s, v_num=0]      \u001B[A"
     ]
    },
    {
     "name": "stderr",
     "output_type": "stream",
     "text": [
      "`Trainer.fit` stopped: `max_epochs=10` reached.\n"
     ]
    },
    {
     "name": "stdout",
     "output_type": "stream",
     "text": [
      "Epoch 9: 100%|██████████| 67/67 [00:01<00:00, 54.26it/s, v_num=0]\n",
      "Testing DataLoader 0: 100%|██████████| 16/16 [00:00<00:00, 99.52it/s] \n",
      "────────────────────────────────────────────────────────────────────────────────────────────────────────────────────────\n",
      "       Test metric             DataLoader 0\n",
      "────────────────────────────────────────────────────────────────────────────────────────────────────────────────────────\n",
      "        test_acc            0.6649681329727173\n",
      "────────────────────────────────────────────────────────────────────────────────────────────────────────────────────────\n"
     ]
    },
    {
     "data": {
      "text/plain": [
       "[{'test_acc': 0.6649681329727173}]"
      ]
     },
     "execution_count": 92,
     "metadata": {},
     "output_type": "execute_result"
    }
   ],
   "execution_count": 92
  },
  {
   "metadata": {
    "ExecuteTime": {
     "end_time": "2025-04-10T03:37:16.090909Z",
     "start_time": "2025-04-10T03:37:16.004506Z"
    }
   },
   "cell_type": "code",
   "source": [
    "def plot_losses(model):\n",
    "    plt.figure(figsize=(10, 5))\n",
    "\n",
    "    # Training loss (all batches)\n",
    "    plt.plot(model.train_losses, alpha=0.3, label='Training (Batch)')\n",
    "\n",
    "    # Validation loss (epoch averages)\n",
    "    val_steps = len(model.val_losses) // len(model.trainer.num_val_batches)\n",
    "    val_epoch_avg = [np.mean(model.val_losses[i*val_steps:(i+1)*val_steps])\n",
    "                     for i in range(len(model.trainer.num_val_batches))]\n",
    "    plt.plot(np.linspace(0, len(model.train_losses), len(val_epoch_avg)),\n",
    "             val_epoch_avg, label='Validation (Epoch)')\n",
    "\n",
    "    plt.xlabel(\"Batch Index\")\n",
    "    plt.ylabel(\"Loss\")\n",
    "    plt.title(\"Training and Validation Loss\")\n",
    "    plt.legend()\n",
    "    plt.show()\n",
    "\n",
    "\n",
    "plot_losses(basic_cnn_trainer)\n"
   ],
   "id": "e3415bbfe2f1050b",
   "outputs": [
    {
     "data": {
      "text/plain": [
       "<Figure size 1500x500 with 2 Axes>"
      ],
      "image/png": "[encoded data removed]"
     },
     "metadata": {},
     "output_type": "display_data"
    }
   ],
   "execution_count": 94
  },
  {
   "metadata": {
    "ExecuteTime": {
     "end_time": "2025-04-10T03:37:28.372697Z",
     "start_time": "2025-04-10T03:37:28.172173Z"
    }
   },
   "cell_type": "code",
   "source": [
    "regularization_transforms = get_transformers(input_size=64, transformer_type=\"regularization\")\n",
    "regularization_loaders = get_loaders(regularization_transforms)\n",
    "regularization_train_loader = regularization_loaders[\"train\"]\n",
    "regularization_val_loader = regularization_loaders[\"val\"]\n",
    "regularization_test_loader = regularization_loaders[\"test\"]"
   ],
   "id": "6c82ca24baeec6f",
   "outputs": [
    {
     "name": "stdout",
     "output_type": "stream",
     "text": [
      "                                                                   \r"
     ]
    }
   ],
   "execution_count": 95
  },
  {
   "metadata": {
    "ExecuteTime": {
     "end_time": "2025-04-10T03:37:29.768594Z",
     "start_time": "2025-04-10T03:37:29.746557Z"
    }
   },
   "cell_type": "code",
   "source": [
    "# Trainer configuration\n",
    "regularization_trainer = L.Trainer(\n",
    "    max_epochs=10,\n",
    "    callbacks=[early_stop, checkpoint],\n",
    "    accelerator=\"auto\",\n",
    "    devices=\"auto\",\n",
    "    precision=\"16-mixed\",\n",
    "    logger=pl_loggers.CSVLogger(save_dir=\"logs/\")\n",
    ")"
   ],
   "id": "54ef7f60731cec2a",
   "outputs": [
    {
     "name": "stderr",
     "output_type": "stream",
     "text": [
      "Using 16bit Automatic Mixed Precision (AMP)\n",
      "/Users/ashwin/Documents/workspace/DataSpellProjects/CSE-6363/CSE6363/assignments/ml_assignment_4_sol/venv/lib/python3.13/site-packages/torch/amp/grad_scaler.py:132: UserWarning: torch.cuda.amp.GradScaler is enabled, but CUDA is not available.  Disabling.\n",
      "  warnings.warn(\n",
      "GPU available: True (mps), used: True\n",
      "TPU available: False, using: 0 TPU cores\n",
      "HPU available: False, using: 0 HPUs\n"
     ]
    }
   ],
   "execution_count": 96
  },
  {
   "metadata": {
    "ExecuteTime": {
     "end_time": "2025-04-10T03:39:54.511132Z",
     "start_time": "2025-04-10T03:37:33.797658Z"
    }
   },
   "cell_type": "code",
   "source": [
    "regularization_model = RegularizationCNN()\n",
    "\n",
    "# Training execution\n",
    "regularization_trainer.fit(regularization_model, regularization_train_loader, regularization_val_loader)\n",
    "regularization_trainer.test(regularization_model, regularization_test_loader)"
   ],
   "id": "b17c14134cc425",
   "outputs": [
    {
     "name": "stderr",
     "output_type": "stream",
     "text": [
      "/Users/ashwin/Documents/workspace/DataSpellProjects/CSE-6363/CSE6363/assignments/ml_assignment_4_sol/venv/lib/python3.13/site-packages/lightning/pytorch/callbacks/model_checkpoint.py:654: Checkpoint directory /Users/ashwin/Documents/workspace/DataSpellProjects/CSE-6363/CSE6363/assignments/ml_assignment_4_sol/checkpoints exists and is not empty.\n",
      "/Users/ashwin/Documents/workspace/DataSpellProjects/CSE-6363/CSE6363/assignments/ml_assignment_4_sol/venv/lib/python3.13/site-packages/torch/optim/lr_scheduler.py:62: UserWarning: The verbose parameter is deprecated. Please use get_last_lr() to access the learning rate.\n",
      "  warnings.warn(\n",
      "\n",
      "  | Name        | Type               | Params | Mode \n",
      "-----------------------------------------------------------\n",
      "0 | conv_layers | Sequential         | 93.2 K | train\n",
      "1 | fc_layers   | Sequential         | 2.1 M  | train\n",
      "2 | train_loss  | MeanMetric         | 0      | train\n",
      "3 | val_loss    | MeanMetric         | 0      | train\n",
      "4 | accuracy    | MulticlassAccuracy | 0      | train\n",
      "-----------------------------------------------------------\n",
      "2.2 M     Trainable params\n",
      "0         Non-trainable params\n",
      "2.2 M     Total params\n",
      "8.773     Total estimated model params size (MB)\n",
      "18        Modules in train mode\n",
      "0         Modules in eval mode\n"
     ]
    },
    {
     "name": "stdout",
     "output_type": "stream",
     "text": [
      "                                                                           \r"
     ]
    },
    {
     "name": "stderr",
     "output_type": "stream",
     "text": [
      "/Users/ashwin/Documents/workspace/DataSpellProjects/CSE-6363/CSE6363/assignments/ml_assignment_4_sol/venv/lib/python3.13/site-packages/torch/amp/autocast_mode.py:266: UserWarning: User provided device_type of 'cuda', but CUDA is not available. Disabling\n",
      "  warnings.warn(\n"
     ]
    },
    {
     "name": "stdout",
     "output_type": "stream",
     "text": [
      "Epoch 0: 100%|██████████| 67/67 [00:01<00:00, 43.52it/s, v_num=1]\n",
      "Validation: |          | 0/? [00:00<?, ?it/s]\u001B[A\n",
      "Validation:   0%|          | 0/8 [00:00<?, ?it/s]\u001B[A\n",
      "Validation DataLoader 0:   0%|          | 0/8 [00:00<?, ?it/s]\u001B[A\n",
      "Validation DataLoader 0:  12%|█▎        | 1/8 [00:00<00:00, 104.35it/s]\u001B[A\n",
      "Validation DataLoader 0:  25%|██▌       | 2/8 [00:00<00:00, 107.20it/s]\u001B[A\n",
      "Validation DataLoader 0:  38%|███▊      | 3/8 [00:00<00:00, 112.47it/s]\u001B[A\n",
      "Validation DataLoader 0:  50%|█████     | 4/8 [00:00<00:00, 117.42it/s]\u001B[A\n",
      "Validation DataLoader 0:  62%|██████▎   | 5/8 [00:00<00:00, 120.90it/s]\u001B[A\n",
      "Validation DataLoader 0:  75%|███████▌  | 6/8 [00:00<00:00, 120.92it/s]\u001B[A\n",
      "Validation DataLoader 0:  88%|████████▊ | 7/8 [00:00<00:00, 122.82it/s]\u001B[A\n",
      "Validation DataLoader 0: 100%|██████████| 8/8 [00:00<00:00, 127.92it/s]\u001B[A\n",
      "Epoch 0: 100%|██████████| 67/67 [00:01<00:00, 40.03it/s, v_num=1]      \u001B[A\n",
      "Testing DataLoader 0: 100%|██████████| 16/16 [00:00<00:00, 98.10it/s]\n",
      "────────────────────────────────────────────────────────────────────────────────────────────────────────────────────────\n",
      "       Test metric             DataLoader 0\n",
      "────────────────────────────────────────────────────────────────────────────────────────────────────────────────────────\n",
      "        test_acc            0.3974522352218628\n",
      "────────────────────────────────────────────────────────────────────────────────────────────────────────────────────────\n"
     ]
    },
    {
     "data": {
      "text/plain": [
       "[{'test_acc': 0.3974522352218628}]"
      ]
     },
     "execution_count": 97,
     "metadata": {},
     "output_type": "execute_result"
    }
   ],
   "execution_count": 97
  },
  {
   "metadata": {
    "ExecuteTime": {
     "end_time": "2025-04-10T03:40:20.859844Z",
     "start_time": "2025-04-10T03:40:20.773422Z"
    }
   },
   "cell_type": "code",
   "source": [
    "def plot_regularization_losses(trainer):\n",
    "    metrics = pd.read_csv(f\"{trainer.logger.log_dir}/metrics.csv\")\n",
    "\n",
    "    plt.figure(figsize=(15, 5))\n",
    "\n",
    "    plt.subplot(1, 2, 1)\n",
    "    plt.plot(metrics['train_loss'].dropna(), label='Training')\n",
    "    plt.plot(metrics['val_loss'].dropna(), label='Validation')\n",
    "    plt.title(\"Loss Curves\")\n",
    "    plt.xlabel(\"Epoch\")\n",
    "    plt.ylabel(\"Loss\")\n",
    "    plt.legend()\n",
    "\n",
    "    plt.subplot(1, 2, 2)\n",
    "    plt.plot(metrics['val_acc'].dropna(), label='Validation')\n",
    "    plt.title(\"Accuracy Progress\")\n",
    "    plt.xlabel(\"Epoch\")\n",
    "    plt.ylabel(\"Accuracy\")\n",
    "    plt.legend()\n",
    "\n",
    "    plt.tight_layout()\n",
    "    plt.show()\n",
    "\n",
    "plot_regularization_losses(regularization_trainer)"
   ],
   "id": "c35581d40d7e9e95",
   "outputs": [
    {
     "data": {
      "text/plain": [
       "<Figure size 1500x500 with 2 Axes>"
      ],
      "image/png": "[encoded data removed]"
     },
     "metadata": {},
     "output_type": "display_data"
    }
   ],
   "execution_count": 98
  }
 ],
 "metadata": {
  "kernelspec": {
   "display_name": "Python 3",
   "language": "python",
   "name": "python3"
  },
  "language_info": {
   "codemirror_mode": {
    "name": "ipython",
    "version": 2
   },
   "file_extension": ".py",
   "mimetype": "text/x-python",
   "name": "python",
   "nbconvert_exporter": "python",
   "pygments_lexer": "ipython2",
   "version": "2.7.6"
  }
 },
 "nbformat": 4,
 "nbformat_minor": 5
}
