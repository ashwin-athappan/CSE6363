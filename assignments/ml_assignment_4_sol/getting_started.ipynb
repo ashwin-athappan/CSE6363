{
 "cells": [
  {
   "cell_type": "markdown",
   "metadata": {},
   "source": [
    "# Getting Started\n",
    "\n",
    "In this assignment you will be implementing at least 2 unique models and working with both the CIFAR10 and Imagenette datasets. The cell below defines a basic model based on the examples we reviewed in class. You should use this as a starting point to implement your own models.\n",
    "\n",
    "You should have no problems running this notebook in Google Colab. If you choose to run it on your own machine, a yaml file is provided with the necessary dependencies. If you are using anaconda, you can create a new environment with the following command:\n",
    "\n",
    "```bash\n",
    "conda env create -f env.yml\n",
    "```"
   ]
  },
  {
   "cell_type": "code",
   "metadata": {
    "ExecuteTime": {
     "end_time": "2025-04-03T04:16:18.569168Z",
     "start_time": "2025-04-03T04:16:17.424805Z"
    }
   },
   "source": [
    "import torch\n",
    "from torch import nn\n",
    "import torch.nn.functional as F\n",
    "import lightning as L\n",
    "import torchmetrics\n",
    "\n",
    "\n",
    "class BaselineModel(L.LightningModule):\n",
    "    def __init__(self, num_classes=10):\n",
    "        super().__init__()\n",
    "\n",
    "        self.estimator = nn.Sequential(\n",
    "            nn.Linear(64 * 64, 1024),\n",
    "            nn.ReLU(),\n",
    "            nn.Linear(1024, 512),\n",
    "            nn.ReLU(),\n",
    "            nn.Linear(512, 128),\n",
    "            nn.ReLU(),\n",
    "            nn.Linear(128, num_classes)\n",
    "        )\n",
    "\n",
    "        self.accuracy = torchmetrics.Accuracy(task=\"multiclass\", num_classes=num_classes)\n",
    "\n",
    "    def forward(self, x):\n",
    "        x = x.view(x.shape[0], -1)\n",
    "\n",
    "        return self.estimator(x)\n",
    "\n",
    "    def training_step(self, batch, batch_idx):\n",
    "        x, y = batch\n",
    "        y_hat = self(x)\n",
    "        loss = F.cross_entropy(y_hat, y)\n",
    "\n",
    "        self.log(\"train_loss\", loss)\n",
    "        return loss\n",
    "\n",
    "    def validation_step(self, batch, batch_idx):\n",
    "        x, y = batch\n",
    "        y_hat = self(x)\n",
    "        loss = F.cross_entropy(y_hat, y)\n",
    "\n",
    "        self.accuracy(y_hat, y)\n",
    "\n",
    "        self.log(\"val_accuracy\", self.accuracy)\n",
    "        self.log(\"val_loss\", loss)\n",
    "\n",
    "    def test_step(self, batch, batch_idx):\n",
    "        x, y = batch\n",
    "        y_hat = self(x)\n",
    "        loss = F.cross_entropy(y_hat, y)\n",
    "\n",
    "        self.accuracy(y_hat, y)\n",
    "\n",
    "        self.log(\"test_accuracy\", self.accuracy)\n",
    "        self.log(\"test_loss\", loss)\n",
    "\n",
    "    def configure_optimizers(self):\n",
    "        optimizer = torch.optim.Adam(self.parameters(), lr=1e-3)\n",
    "        return optimizer\n"
   ],
   "outputs": [],
   "execution_count": 1
  },
  {
   "cell_type": "markdown",
   "metadata": {},
   "source": [
    "The Imagenette dataset is a smaller subset of 10 easily classified classes from Imagenet. It is available to download from `torchvision`, as shown in the cell below. There are 3 different sizes of the images available. Feel free to use whichever version you prefer. It might make a difference in the performance of your model.\n",
    "\n",
    "**Note: After downloading the Imagenette dataset, you will need to set `download=False` in the cell below to avoid errors.**"
   ]
  },
  {
   "cell_type": "code",
   "metadata": {
    "ExecuteTime": {
     "end_time": "2025-04-03T04:22:08.607732Z",
     "start_time": "2025-04-03T04:22:08.538512Z"
    }
   },
   "source": [
    "import ssl\n",
    "from torchvision import transforms\n",
    "from torchvision.datasets import Imagenette\n",
    "from lightning.pytorch.callbacks.early_stopping import EarlyStopping\n",
    "from lightning.pytorch.callbacks import ModelCheckpoint\n",
    "\n",
    "\n",
    "# Prepare the dataset\n",
    "train_transforms = transforms.Compose([\n",
    "    transforms.CenterCrop(160),\n",
    "    transforms.Resize(64),\n",
    "    transforms.ToTensor(),\n",
    "    transforms.Normalize((0.4914, 0.4822, 0.4465), (0.2470, 0.2435, 0.2616)),\n",
    "    transforms.Grayscale()\n",
    "])\n",
    "\n",
    "test_transforms = transforms.Compose([\n",
    "    transforms.CenterCrop(160),\n",
    "    transforms.Resize(64),\n",
    "    transforms.ToTensor(),\n",
    "    transforms.Normalize((0.4914, 0.4822, 0.4465), (0.2470, 0.2435, 0.2616)),\n",
    "    transforms.Grayscale()\n",
    "])\n",
    "\n",
    "ssl._create_default_https_context = ssl._create_unverified_context\n",
    "train_dataset = Imagenette(\"data/imagenette/train/\", split=\"train\", size=\"160px\", download=True, transform=train_transforms)\n",
    "\n",
    "# Use 10% of the training set for validation\n",
    "train_set_size = int(len(train_dataset) * 0.9)\n",
    "val_set_size = len(train_dataset) - train_set_size\n",
    "\n",
    "seed = torch.Generator().manual_seed(42)\n",
    "train_dataset, val_dataset = torch.utils.data.random_split(train_dataset, [train_set_size, val_set_size], generator=seed)\n",
    "val_dataset.dataset.transform = test_transforms\n",
    "\n",
    "# Use DataLoader to load the dataset\n",
    "train_loader = torch.utils.data.DataLoader(train_dataset, batch_size=128, num_workers=8, shuffle=True)\n",
    "val_loader = torch.utils.data.DataLoader(val_dataset, batch_size=128, num_workers=8, shuffle=False)\n",
    "\n",
    "# Configure the test dataset\n",
    "test_dataset = Imagenette(\"data/imagenette/test\"\n",
    "                          \"/\", split=\"val\", size=\"160px\", download=True, transform=test_transforms)\n",
    "\n",
    "model = BaselineModel()\n",
    "\n",
    "# Add EarlyStopping\n",
    "early_stop_callback = EarlyStopping(monitor=\"val_loss\",\n",
    "                                    mode=\"min\",\n",
    "                                    patience=5)\n",
    "\n",
    "# Configure Checkpoints\n",
    "checkpoint_callback = ModelCheckpoint(\n",
    "    monitor=\"val_loss\",\n",
    "    mode=\"min\"\n",
    ")"
   ],
   "outputs": [],
   "execution_count": 2
  },
  {
   "cell_type": "code",
   "metadata": {
    "ExecuteTime": {
     "end_time": "2025-04-03T04:36:40.728438Z",
     "start_time": "2025-04-03T04:22:12.295063Z"
    }
   },
   "source": [
    "# Fit the model\n",
    "trainer = L.Trainer(callbacks=[early_stop_callback, checkpoint_callback], max_epochs=20, accelerator=\"auto\")\n",
    "trainer.fit(model=model, train_dataloaders=train_loader, val_dataloaders=val_loader)"
   ],
   "outputs": [
    {
     "name": "stderr",
     "output_type": "stream",
     "text": [
      "GPU available: True (mps), used: True\n",
      "TPU available: False, using: 0 TPU cores\n",
      "HPU available: False, using: 0 HPUs\n",
      "/Users/ashwin/Documents/workspace/DataSpellProjects/CSE-6363/CSE6363/assignments/ml_assignment_4_sol/venv/lib/python3.13/site-packages/lightning/pytorch/trainer/connectors/logger_connector/logger_connector.py:76: Starting from v1.9.0, `tensorboardX` has been removed as a dependency of the `lightning.pytorch` package, due to potential conflicts with other packages in the ML ecosystem. For this reason, `logger=True` will use `CSVLogger` as the default logger, unless the `tensorboard` or `tensorboardX` packages are found. Please `pip install lightning[extra]` or one of them to enable TensorBoard support by default\n",
      "\n",
      "  | Name      | Type               | Params | Mode \n",
      "---------------------------------------------------------\n",
      "0 | estimator | Sequential         | 4.8 M  | train\n",
      "1 | accuracy  | MulticlassAccuracy | 0      | train\n",
      "---------------------------------------------------------\n",
      "4.8 M     Trainable params\n",
      "0         Non-trainable params\n",
      "4.8 M     Total params\n",
      "19.148    Total estimated model params size (MB)\n",
      "9         Modules in train mode\n",
      "0         Modules in eval mode\n"
     ]
    },
    {
     "name": "stdout",
     "output_type": "stream",
     "text": [
      "Sanity Checking: |          | 0/? [00:00<?, ?it/s]"
     ]
    },
    {
     "name": "stderr",
     "output_type": "stream",
     "text": [
      "/Users/ashwin/Documents/workspace/DataSpellProjects/CSE-6363/CSE6363/assignments/ml_assignment_4_sol/venv/lib/python3.13/site-packages/lightning/pytorch/trainer/connectors/data_connector.py:420: Consider setting `persistent_workers=True` in 'val_dataloader' to speed up the dataloader worker initialization.\n"
     ]
    },
    {
     "name": "stdout",
     "output_type": "stream",
     "text": [
      "                                                                           \r"
     ]
    },
    {
     "name": "stderr",
     "output_type": "stream",
     "text": [
      "/Users/ashwin/Documents/workspace/DataSpellProjects/CSE-6363/CSE6363/assignments/ml_assignment_4_sol/venv/lib/python3.13/site-packages/lightning/pytorch/trainer/connectors/data_connector.py:420: Consider setting `persistent_workers=True` in 'train_dataloader' to speed up the dataloader worker initialization.\n"
     ]
    },
    {
     "name": "stdout",
     "output_type": "stream",
     "text": [
      "Epoch 0: 100%|██████████| 67/67 [00:01<00:00, 63.73it/s, v_num=1]\n",
      "Validation: |          | 0/? [00:00<?, ?it/s]\u001B[A\n",
      "Validation:   0%|          | 0/8 [00:00<?, ?it/s]\u001B[A\n",
      "Validation DataLoader 0:   0%|          | 0/8 [00:00<?, ?it/s]\u001B[A\n",
      "Validation DataLoader 0:  12%|█▎        | 1/8 [00:00<00:00, 168.92it/s]\u001B[A\n",
      "Validation DataLoader 0:  25%|██▌       | 2/8 [00:00<00:00, 208.55it/s]\u001B[A\n",
      "Validation DataLoader 0:  38%|███▊      | 3/8 [00:00<00:00, 223.55it/s]\u001B[A\n",
      "Validation DataLoader 0:  50%|█████     | 4/8 [00:00<00:00, 242.25it/s]\u001B[A\n",
      "Validation DataLoader 0:  62%|██████▎   | 5/8 [00:00<00:00, 230.93it/s]\u001B[A\n",
      "Validation DataLoader 0:  75%|███████▌  | 6/8 [00:00<00:00, 238.40it/s]\u001B[A\n",
      "Validation DataLoader 0:  88%|████████▊ | 7/8 [00:00<00:00, 249.47it/s]\u001B[A\n",
      "Validation DataLoader 0: 100%|██████████| 8/8 [00:00<00:00, 140.56it/s]\u001B[A\n",
      "Epoch 1: 100%|██████████| 67/67 [00:46<00:00,  1.43it/s, v_num=1]      \u001B[A\n",
      "Validation: |          | 0/? [00:00<?, ?it/s]\u001B[A\n",
      "Validation:   0%|          | 0/8 [00:00<?, ?it/s]\u001B[A\n",
      "Validation DataLoader 0:   0%|          | 0/8 [00:00<?, ?it/s]\u001B[A\n",
      "Validation DataLoader 0:  12%|█▎        | 1/8 [00:00<00:00, 111.46it/s]\u001B[A\n",
      "Validation DataLoader 0:  25%|██▌       | 2/8 [00:00<00:00, 147.35it/s]\u001B[A\n",
      "Validation DataLoader 0:  38%|███▊      | 3/8 [00:00<00:00, 175.93it/s]\u001B[A\n",
      "Validation DataLoader 0:  50%|█████     | 4/8 [00:00<00:00, 198.69it/s]\u001B[A\n",
      "Validation DataLoader 0:  62%|██████▎   | 5/8 [00:00<00:00, 215.91it/s]\u001B[A\n",
      "Validation DataLoader 0:  75%|███████▌  | 6/8 [00:00<00:00, 230.53it/s]\u001B[A\n",
      "Validation DataLoader 0:  88%|████████▊ | 7/8 [00:00<00:00, 236.22it/s]\u001B[A\n",
      "Validation DataLoader 0: 100%|██████████| 8/8 [00:00<00:00, 237.46it/s]\u001B[A\n",
      "Epoch 2: 100%|██████████| 67/67 [00:46<00:00,  1.43it/s, v_num=1]      \u001B[A\n",
      "Validation: |          | 0/? [00:00<?, ?it/s]\u001B[A\n",
      "Validation:   0%|          | 0/8 [00:00<?, ?it/s]\u001B[A\n",
      "Validation DataLoader 0:   0%|          | 0/8 [00:00<?, ?it/s]\u001B[A\n",
      "Validation DataLoader 0:  12%|█▎        | 1/8 [00:00<00:00, 134.37it/s]\u001B[A\n",
      "Validation DataLoader 0:  25%|██▌       | 2/8 [00:00<00:00, 167.11it/s]\u001B[A\n",
      "Validation DataLoader 0:  38%|███▊      | 3/8 [00:00<00:00, 198.35it/s]\u001B[A\n",
      "Validation DataLoader 0:  50%|█████     | 4/8 [00:00<00:00, 215.49it/s]\u001B[A\n",
      "Validation DataLoader 0:  62%|██████▎   | 5/8 [00:00<00:00, 234.61it/s]\u001B[A\n",
      "Validation DataLoader 0:  75%|███████▌  | 6/8 [00:00<00:00, 246.63it/s]\u001B[A\n",
      "Validation DataLoader 0:  88%|████████▊ | 7/8 [00:00<00:00, 257.68it/s]\u001B[A\n",
      "Validation DataLoader 0: 100%|██████████| 8/8 [00:00<00:00, 263.19it/s]\u001B[A\n",
      "Epoch 3: 100%|██████████| 67/67 [00:47<00:00,  1.42it/s, v_num=1]      \u001B[A\n",
      "Validation: |          | 0/? [00:00<?, ?it/s]\u001B[A\n",
      "Validation:   0%|          | 0/8 [00:00<?, ?it/s]\u001B[A\n",
      "Validation DataLoader 0:   0%|          | 0/8 [00:00<?, ?it/s]\u001B[A\n",
      "Validation DataLoader 0:  12%|█▎        | 1/8 [00:00<00:00, 136.63it/s]\u001B[A\n",
      "Validation DataLoader 0:  25%|██▌       | 2/8 [00:00<00:00, 189.00it/s]\u001B[A\n",
      "Validation DataLoader 0:  38%|███▊      | 3/8 [00:00<00:00, 223.51it/s]\u001B[A\n",
      "Validation DataLoader 0:  50%|█████     | 4/8 [00:00<00:00, 242.83it/s]\u001B[A\n",
      "Validation DataLoader 0:  62%|██████▎   | 5/8 [00:00<00:00, 260.00it/s]\u001B[A\n",
      "Validation DataLoader 0:  75%|███████▌  | 6/8 [00:00<00:00, 276.68it/s]\u001B[A\n",
      "Validation DataLoader 0:  88%|████████▊ | 7/8 [00:00<00:00, 293.61it/s]\u001B[A\n",
      "Validation DataLoader 0: 100%|██████████| 8/8 [00:00<00:00, 299.25it/s]\u001B[A\n",
      "Epoch 4: 100%|██████████| 67/67 [00:47<00:00,  1.43it/s, v_num=1]      \u001B[A\n",
      "Validation: |          | 0/? [00:00<?, ?it/s]\u001B[A\n",
      "Validation:   0%|          | 0/8 [00:00<?, ?it/s]\u001B[A\n",
      "Validation DataLoader 0:   0%|          | 0/8 [00:00<?, ?it/s]\u001B[A\n",
      "Validation DataLoader 0:  12%|█▎        | 1/8 [00:00<00:00, 82.12it/s]\u001B[A\n",
      "Validation DataLoader 0:  25%|██▌       | 2/8 [00:00<00:00, 126.37it/s]\u001B[A\n",
      "Validation DataLoader 0:  38%|███▊      | 3/8 [00:00<00:00, 164.02it/s]\u001B[A\n",
      "Validation DataLoader 0:  50%|█████     | 4/8 [00:00<00:00, 191.54it/s]\u001B[A\n",
      "Validation DataLoader 0:  62%|██████▎   | 5/8 [00:00<00:00, 213.20it/s]\u001B[A\n",
      "Validation DataLoader 0:  75%|███████▌  | 6/8 [00:00<00:00, 227.53it/s]\u001B[A\n",
      "Validation DataLoader 0:  88%|████████▊ | 7/8 [00:00<00:00, 236.72it/s]\u001B[A\n",
      "Validation DataLoader 0: 100%|██████████| 8/8 [00:00<00:00, 243.11it/s]\u001B[A\n",
      "Epoch 5: 100%|██████████| 67/67 [00:46<00:00,  1.43it/s, v_num=1]      \u001B[A\n",
      "Validation: |          | 0/? [00:00<?, ?it/s]\u001B[A\n",
      "Validation:   0%|          | 0/8 [00:00<?, ?it/s]\u001B[A\n",
      "Validation DataLoader 0:   0%|          | 0/8 [00:00<?, ?it/s]\u001B[A\n",
      "Validation DataLoader 0:  12%|█▎        | 1/8 [00:00<00:00, 93.12it/s]\u001B[A\n",
      "Validation DataLoader 0:  25%|██▌       | 2/8 [00:00<00:00, 140.79it/s]\u001B[A\n",
      "Validation DataLoader 0:  38%|███▊      | 3/8 [00:00<00:00, 175.17it/s]\u001B[A\n",
      "Validation DataLoader 0:  50%|█████     | 4/8 [00:00<00:00, 201.22it/s]\u001B[A\n",
      "Validation DataLoader 0:  62%|██████▎   | 5/8 [00:00<00:00, 224.28it/s]\u001B[A\n",
      "Validation DataLoader 0:  75%|███████▌  | 6/8 [00:00<00:00, 243.36it/s]\u001B[A\n",
      "Validation DataLoader 0:  88%|████████▊ | 7/8 [00:00<00:00, 257.71it/s]\u001B[A\n",
      "Validation DataLoader 0: 100%|██████████| 8/8 [00:00<00:00, 261.78it/s]\u001B[A\n",
      "Epoch 6: 100%|██████████| 67/67 [00:46<00:00,  1.43it/s, v_num=1]      \u001B[A\n",
      "Validation: |          | 0/? [00:00<?, ?it/s]\u001B[A\n",
      "Validation:   0%|          | 0/8 [00:00<?, ?it/s]\u001B[A\n",
      "Validation DataLoader 0:   0%|          | 0/8 [00:00<?, ?it/s]\u001B[A\n",
      "Validation DataLoader 0:  12%|█▎        | 1/8 [00:00<00:00, 97.89it/s]\u001B[A\n",
      "Validation DataLoader 0:  25%|██▌       | 2/8 [00:00<00:00, 140.46it/s]\u001B[A\n",
      "Validation DataLoader 0:  38%|███▊      | 3/8 [00:00<00:00, 177.79it/s]\u001B[A\n",
      "Validation DataLoader 0:  50%|█████     | 4/8 [00:00<00:00, 204.56it/s]\u001B[A\n",
      "Validation DataLoader 0:  62%|██████▎   | 5/8 [00:00<00:00, 227.35it/s]\u001B[A\n",
      "Validation DataLoader 0:  75%|███████▌  | 6/8 [00:00<00:00, 246.83it/s]\u001B[A\n",
      "Validation DataLoader 0:  88%|████████▊ | 7/8 [00:00<00:00, 261.51it/s]\u001B[A\n",
      "Validation DataLoader 0: 100%|██████████| 8/8 [00:00<00:00, 267.31it/s]\u001B[A\n",
      "Epoch 7: 100%|██████████| 67/67 [00:46<00:00,  1.43it/s, v_num=1]      \u001B[A\n",
      "Validation: |          | 0/? [00:00<?, ?it/s]\u001B[A\n",
      "Validation:   0%|          | 0/8 [00:00<?, ?it/s]\u001B[A\n",
      "Validation DataLoader 0:   0%|          | 0/8 [00:00<?, ?it/s]\u001B[A\n",
      "Validation DataLoader 0:  12%|█▎        | 1/8 [00:00<00:00, 90.86it/s]\u001B[A\n",
      "Validation DataLoader 0:  25%|██▌       | 2/8 [00:00<00:00, 143.86it/s]\u001B[A\n",
      "Validation DataLoader 0:  38%|███▊      | 3/8 [00:00<00:00, 184.66it/s]\u001B[A\n",
      "Validation DataLoader 0:  50%|█████     | 4/8 [00:00<00:00, 211.29it/s]\u001B[A\n",
      "Validation DataLoader 0:  62%|██████▎   | 5/8 [00:00<00:00, 227.78it/s]\u001B[A\n",
      "Validation DataLoader 0:  75%|███████▌  | 6/8 [00:00<00:00, 241.23it/s]\u001B[A\n",
      "Validation DataLoader 0:  88%|████████▊ | 7/8 [00:00<00:00, 256.54it/s]\u001B[A\n",
      "Validation DataLoader 0: 100%|██████████| 8/8 [00:00<00:00, 260.57it/s]\u001B[A\n",
      "Epoch 8: 100%|██████████| 67/67 [00:46<00:00,  1.43it/s, v_num=1]      \u001B[A\n",
      "Validation: |          | 0/? [00:00<?, ?it/s]\u001B[A\n",
      "Validation:   0%|          | 0/8 [00:00<?, ?it/s]\u001B[A\n",
      "Validation DataLoader 0:   0%|          | 0/8 [00:00<?, ?it/s]\u001B[A\n",
      "Validation DataLoader 0:  12%|█▎        | 1/8 [00:00<00:00, 115.81it/s]\u001B[A\n",
      "Validation DataLoader 0:  25%|██▌       | 2/8 [00:00<00:00, 151.11it/s]\u001B[A\n",
      "Validation DataLoader 0:  38%|███▊      | 3/8 [00:00<00:00, 182.44it/s]\u001B[A\n",
      "Validation DataLoader 0:  50%|█████     | 4/8 [00:00<00:00, 203.45it/s]\u001B[A\n",
      "Validation DataLoader 0:  62%|██████▎   | 5/8 [00:00<00:00, 224.39it/s]\u001B[A\n",
      "Validation DataLoader 0:  75%|███████▌  | 6/8 [00:00<00:00, 237.01it/s]\u001B[A\n",
      "Validation DataLoader 0:  88%|████████▊ | 7/8 [00:00<00:00, 244.46it/s]\u001B[A\n",
      "Validation DataLoader 0: 100%|██████████| 8/8 [00:00<00:00, 249.79it/s]\u001B[A\n",
      "Epoch 8: 100%|██████████| 67/67 [01:33<00:00,  0.72it/s, v_num=1]      \u001B[A\n"
     ]
    }
   ],
   "execution_count": 3
  },
  {
   "cell_type": "code",
   "metadata": {
    "ExecuteTime": {
     "end_time": "2025-04-03T06:09:33.531002Z",
     "start_time": "2025-04-03T06:08:46.660113Z"
    }
   },
   "source": [
    "# Evaluate the model on the test set\n",
    "test_loader = torch.utils.data.DataLoader(test_dataset, batch_size=256, num_workers=8, shuffle=False)\n",
    "trainer.test(model=model, dataloaders=test_loader)"
   ],
   "outputs": [
    {
     "name": "stderr",
     "output_type": "stream",
     "text": [
      "/Users/ashwin/Documents/workspace/DataSpellProjects/CSE-6363/CSE6363/assignments/ml_assignment_4_sol/venv/lib/python3.13/site-packages/lightning/pytorch/trainer/connectors/data_connector.py:420: Consider setting `persistent_workers=True` in 'test_dataloader' to speed up the dataloader worker initialization.\n"
     ]
    },
    {
     "name": "stdout",
     "output_type": "stream",
     "text": [
      "Testing DataLoader 0: 100%|██████████| 16/16 [00:00<00:00, 97.70it/s] \n",
      "────────────────────────────────────────────────────────────────────────────────────────────────────────────────────────\n",
      "       Test metric             DataLoader 0\n",
      "────────────────────────────────────────────────────────────────────────────────────────────────────────────────────────\n",
      "      test_accuracy         0.3373248279094696\n",
      "        test_loss           2.4586288928985596\n",
      "────────────────────────────────────────────────────────────────────────────────────────────────────────────────────────\n"
     ]
    },
    {
     "data": {
      "text/plain": [
       "[{'test_accuracy': 0.3373248279094696, 'test_loss': 2.4586288928985596}]"
      ]
     },
     "execution_count": 4,
     "metadata": {},
     "output_type": "execute_result"
    }
   ],
   "execution_count": 4
  },
  {
   "metadata": {},
   "cell_type": "code",
   "outputs": [],
   "execution_count": null,
   "source": ""
  }
 ],
 "metadata": {
  "kernelspec": {
   "display_name": "cse6363",
   "language": "python",
   "name": "python3"
  },
  "language_info": {
   "codemirror_mode": {
    "name": "ipython",
    "version": 3
   },
   "file_extension": ".py",
   "mimetype": "text/x-python",
   "name": "python",
   "nbconvert_exporter": "python",
   "pygments_lexer": "ipython3",
   "version": "3.11.8"
  }
 },
 "nbformat": 4,
 "nbformat_minor": 2
}
